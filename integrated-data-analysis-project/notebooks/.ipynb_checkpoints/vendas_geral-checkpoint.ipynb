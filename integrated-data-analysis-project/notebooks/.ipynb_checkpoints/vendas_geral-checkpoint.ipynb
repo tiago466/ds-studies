{
 "cells": [
  {
   "cell_type": "code",
   "execution_count": 22,
   "id": "8b5730a0-f7aa-4a61-8bd8-38ab9d45da3d",
   "metadata": {},
   "outputs": [
    {
     "name": "stdout",
     "output_type": "stream",
     "text": [
      "-----------------------------------\n",
      "FORMA 1 DE APRESENTAR OS ARQUIVOS\n",
      "-----------------------------------\n",
      "INDEX: [0] 01 - Armazenagem Janeiro 2023  JAN.xlsx\n",
      "INDEX: [1] 12 - Armazenagem Dezembro 2023 SAM.xlsx\n",
      "INDEX: [2] 12 - Frete Dezembro 2023 SAM.xlsx\n",
      "INDEX: [3] geral_solic.xlsx\n",
      "INDEX: [4] SAM\n",
      "INDEX: [5] SAM CE.xlsx\n",
      "INDEX: [6] SAM MX.xlsx\n",
      "INDEX: [7] Vendas_com_Erros.csv\n",
      "-----------------------------------\n",
      "FORMA 2 DE APRESENTAR OS ARQUIVOS\n",
      "-----------------------------------\n",
      "INDEX: [0] 01 - Armazenagem Janeiro 2023  JAN.xlsx\n",
      "INDEX: [1] 12 - Armazenagem Dezembro 2023 SAM.xlsx\n",
      "INDEX: [2] 12 - Frete Dezembro 2023 SAM.xlsx\n",
      "INDEX: [3] geral_solic.xlsx\n",
      "INDEX: [4] SAM\n",
      "INDEX: [5] SAM CE.xlsx\n",
      "INDEX: [6] SAM MX.xlsx\n",
      "INDEX: [7] Vendas_com_Erros.csv\n"
     ]
    }
   ],
   "source": [
    "from pathlib import Path\n",
    "import pandas as pd\n",
    "\n",
    "#00 Definir os caminhos das fontes de dados\n",
    "path_vendas = \"../data/raw\"\n",
    "\n",
    "#01 Listar conteudo do diretório data/raw\n",
    "dir_list = list(Path(path_vendas).iterdir())\n",
    "\n",
    "# Forma 1 de apresetar os arquivos\n",
    "print(\"-----------------------------------\")\n",
    "print(\"FORMA 1 DE APRESENTAR OS ARQUIVOS\")\n",
    "print(\"-----------------------------------\")\n",
    "\n",
    "i = 0\n",
    "for files in dir_list:\n",
    "    print(f\"INDEX: [{i}] {files.name}\")\n",
    "    i = i + 1\n",
    "\n",
    "    \n",
    "\n",
    "# Forma 2 de apresetar os arquivos\n",
    "print(\"-----------------------------------\")\n",
    "print(\"FORMA 2 DE APRESENTAR OS ARQUIVOS\")\n",
    "print(\"-----------------------------------\")\n",
    "i = 0\n",
    "for i, files in enumerate(dir_list):\n",
    "    print(f\"INDEX: [{i}] {files.name}\")\n",
    "    i = i + 1\n",
    "\n",
    "\n",
    "#01 Conectar com a planilha\n"
   ]
  },
  {
   "cell_type": "code",
   "execution_count": null,
   "id": "8f3cb8e0-04b5-416f-a660-4d9be78a6993",
   "metadata": {},
   "outputs": [],
   "source": []
  }
 ],
 "metadata": {
  "kernelspec": {
   "display_name": "Python 3 (ipykernel)",
   "language": "python",
   "name": "python3"
  },
  "language_info": {
   "codemirror_mode": {
    "name": "ipython",
    "version": 3
   },
   "file_extension": ".py",
   "mimetype": "text/x-python",
   "name": "python",
   "nbconvert_exporter": "python",
   "pygments_lexer": "ipython3",
   "version": "3.11.4"
  }
 },
 "nbformat": 4,
 "nbformat_minor": 5
}
